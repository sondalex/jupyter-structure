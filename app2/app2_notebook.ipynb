{
 "cells": [
  {
   "cell_type": "code",
   "execution_count": 1,
   "id": "0e050e72-914c-4a09-8722-b737388425d8",
   "metadata": {
    "execution": {
     "iopub.execute_input": "2022-08-07T12:31:01.574420Z",
     "iopub.status.busy": "2022-08-07T12:31:01.574143Z",
     "iopub.status.idle": "2022-08-07T12:31:02.119836Z",
     "shell.execute_reply": "2022-08-07T12:31:02.118786Z"
    }
   },
   "outputs": [],
   "source": [
    "import pandas as pd\n",
    "from settings import BASE_DIR\n",
    "titanic = pd.read_csv(\"https://raw.githubusercontent.com/mwaskom/seaborn-data/master/raw/titanic.csv\")\n"
   ]
  },
  {
   "cell_type": "code",
   "execution_count": 2,
   "id": "cae860f5-43c1-4f92-900b-dd3c9c2cfa36",
   "metadata": {
    "execution": {
     "iopub.execute_input": "2022-08-07T12:31:02.124301Z",
     "iopub.status.busy": "2022-08-07T12:31:02.124052Z",
     "iopub.status.idle": "2022-08-07T12:31:02.138356Z",
     "shell.execute_reply": "2022-08-07T12:31:02.137905Z"
    }
   },
   "outputs": [],
   "source": [
    "titanic.describe().to_csv(BASE_DIR + \"data/titanic_described.csv\")"
   ]
  }
 ],
 "metadata": {
  "kernelspec": {
   "display_name": "Jupyter Structure",
   "language": "python",
   "name": "jupyterstructure"
  },
  "language_info": {
   "codemirror_mode": {
    "name": "ipython",
    "version": 3
   },
   "file_extension": ".py",
   "mimetype": "text/x-python",
   "name": "python",
   "nbconvert_exporter": "python",
   "pygments_lexer": "ipython3",
   "version": "3.9.12"
  }
 },
 "nbformat": 4,
 "nbformat_minor": 5
}
