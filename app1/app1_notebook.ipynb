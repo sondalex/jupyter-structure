{
 "cells": [
  {
   "cell_type": "code",
   "execution_count": 1,
   "id": "365980f5-8bb1-4441-806a-bfe74e7e256c",
   "metadata": {
    "execution": {
     "iopub.execute_input": "2022-08-07T12:31:00.298357Z",
     "iopub.status.busy": "2022-08-07T12:31:00.298070Z",
     "iopub.status.idle": "2022-08-07T12:31:00.688154Z",
     "shell.execute_reply": "2022-08-07T12:31:00.687255Z"
    }
   },
   "outputs": [],
   "source": [
    "import pandas as pd\n",
    "from settings import BASE_DIR\n",
    "\n",
    "iris = pd.read_csv('https://raw.githubusercontent.com/mwaskom/seaborn-data/master/iris.csv')\n"
   ]
  },
  {
   "cell_type": "code",
   "execution_count": 2,
   "id": "a49fe60e-fa9d-494c-9b8b-81fa6575cf4b",
   "metadata": {
    "execution": {
     "iopub.execute_input": "2022-08-07T12:31:00.691816Z",
     "iopub.status.busy": "2022-08-07T12:31:00.691590Z",
     "iopub.status.idle": "2022-08-07T12:31:00.705901Z",
     "shell.execute_reply": "2022-08-07T12:31:00.705438Z"
    }
   },
   "outputs": [],
   "source": [
    "iris.describe().to_csv(BASE_DIR + \"data/iris_described.csv\")"
   ]
  }
 ],
 "metadata": {
  "kernelspec": {
   "display_name": "Jupyter Structure",
   "language": "python",
   "name": "jupyterstructure"
  },
  "language_info": {
   "codemirror_mode": {
    "name": "ipython",
    "version": 3
   },
   "file_extension": ".py",
   "mimetype": "text/x-python",
   "name": "python",
   "nbconvert_exporter": "python",
   "pygments_lexer": "ipython3",
   "version": "3.9.12"
  }
 },
 "nbformat": 4,
 "nbformat_minor": 5
}
